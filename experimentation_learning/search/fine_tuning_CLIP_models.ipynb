{
  "cells": [
    {
      "cell_type": "markdown",
      "metadata": {
        "id": "ChNQktmqV1lz"
      },
      "source": [
        "Install Libraries"
      ]
    },
    {
      "cell_type": "markdown",
      "metadata": {
        "id": "QoZt87gsVzfj"
      },
      "source": []
    },
    {
      "cell_type": "code",
      "execution_count": 3,
      "metadata": {
        "id": "yF0Zoy7NWj4-"
      },
      "outputs": [],
      "source": [
        "%%capture\n",
        "\n",
        "!pip install openai-clip\n",
        "!pip install datasets\n",
        "!pip install torch\n",
        "!pip install tqdm"
      ]
    },
    {
      "cell_type": "markdown",
      "metadata": {
        "id": "bneBtKTAXHze"
      },
      "source": [
        "- Model: openai-clip to define our base CLIP model\n",
        "- Dataset from Huggin Face\n",
        "- Torch: Modeling code\n"
      ]
    },
    {
      "cell_type": "markdown",
      "source": [
        "**Zero-shot classifcation performance of CLIP**"
      ],
      "metadata": {
        "id": "039_GzM4KfFl"
      }
    },
    {
      "cell_type": "code",
      "source": [
        "from dataclasses import dataclass\n",
        "from typing import List, Optional\n",
        "import numpy as np\n",
        "\n",
        "import clip\n",
        "import torch\n",
        "\n",
        "\n",
        "@dataclass\n",
        "class ModelConfig:\n",
        "    model_name: str\n",
        "    enable_jit: bool = False\n",
        "\n",
        "@dataclass\n",
        "class InferenceConfig:\n",
        "    model_config: ModelConfig\n",
        "    labels: List[str]\n",
        "    top_k: int = 1\n",
        "    num_of_inf_samples: Optional[int] = None\n",
        "\n",
        "@dataclass\n",
        "class EvalConfig:\n",
        "  inference_config: InferenceConfig\n",
        "  metric_name: str\n",
        "\n",
        "\n",
        "@dataclass\n",
        "class DataConfig:\n",
        "  dataset_name: str"
      ],
      "metadata": {
        "id": "VSMN9_o9wSxX"
      },
      "execution_count": 4,
      "outputs": []
    },
    {
      "cell_type": "code",
      "source": [
        "from datasets import load_dataset\n",
        "from collections import Counter\n",
        "\n",
        "\n",
        "class Dataset:\n",
        "  def __init__(self, dataset_name: str):\n",
        "    self.dataset_name = dataset_name\n",
        "    ds = load_dataset(self.dataset_name)\n",
        "    self.dataset = ds['train']\n",
        "\n",
        "  def get_dataset(self):\n",
        "    ds = load_dataset(self.dataset_name)\n",
        "    self.dataset = ds['train']\n",
        "    return self.dataset\n",
        "\n",
        "  def get_labels(self):\n",
        "    ds = load_dataset(self.dataset_name)\n",
        "    self.dataset = ds['train']\n",
        "    self.labels = list(set(self.dataset['subCategory']))\n",
        "    return self.labels\n",
        "\n",
        "  def get_dataset_stats(self):\n",
        "    num_of_samples = len(set(self.dataset['id']))\n",
        "    print(f\"num of samples: {num_of_samples}\")\n",
        "    print(f\"masterCatergory {Counter(self.dataset['masterCategory'])}\")\n",
        "    print(f\"subCatergory {Counter(self.dataset['subCategory'])}\")\n",
        "\n",
        "  def display(self, idx):\n",
        "    # Example image\n",
        "    image = self.dataset[idx]['image']\n",
        "    display(image)\n",
        "\n",
        "    # Example data\n",
        "    print(self.dataset[idx])\n",
        "\n"
      ],
      "metadata": {
        "id": "yMrVNL36wSqI"
      },
      "execution_count": 17,
      "outputs": []
    },
    {
      "cell_type": "code",
      "source": [
        "class InferenceModel:\n",
        "    def __init__(self, model_name: str, enable_jit: bool, labels: List[str], top_k: int):\n",
        "        self.device = torch.device(\"cuda\" if torch.cuda.is_available() else \"cpu\")\n",
        "        self.model, self.preprocess = clip.load(model_name, jit=enable_jit)\n",
        "        self.model.eval()  # Set the model to evaluation mode\n",
        "        self.top_k = top_k\n",
        "        self.labels = labels\n",
        "\n",
        "    def preprocess_data(self, image_data):\n",
        "        \"\"\"Preprocess the input data for inference.\"\"\"\n",
        "        return self.preprocess(image_data).unsqueeze(0).to(self.device)\n",
        "\n",
        "    def precomoute_text_features(self, text_data) -> torch.Tensor:\n",
        "        \"\"\"Precompute text features for all the labels\"\"\"\n",
        "        text_inputs = torch.cat([clip.tokenize(f\"a photo of {c}\") for c in text_data]).to(self.device)\n",
        "\n",
        "        with torch.no_grad():\n",
        "            text_features = self.model.encode_text(text_inputs)\n",
        "            print(text_features.shape)\n",
        "        text_features /= text_features.norm(dim=-1, keepdim=True)\n",
        "        self.text_features =  text_features\n",
        "        return self.text_features\n",
        "\n",
        "    def predict(self, data) -> List[str]:\n",
        "        \"\"\"Perform inference on the preprocessed data.\"\"\"\n",
        "        image_input = self.preprocess_data(data)\n",
        "\n",
        "        # Calculate image features\n",
        "        with torch.no_grad():\n",
        "            image_features = self.model.encode_image(image_input)\n",
        "\n",
        "        # Normalize the image features\n",
        "        image_features /= image_features.norm(dim=-1, keepdim=True)\n",
        "\n",
        "        # Calculate similarity between image and text features\n",
        "        similarity = (100.0 * image_features @ self.text_features.T).softmax(dim=-1)\n",
        "        values, indices = similarity[0].topk(self.top_k)\n",
        "\n",
        "        if self.top_k > 1:\n",
        "          pred_label = []\n",
        "          for ii in range(len(indices)):\n",
        "            pred_label.append(self.labels[indices[ii]])\n",
        "        else:\n",
        "          pred_label = [self.labels[indices[0]]]\n",
        "\n",
        "        return pred_label"
      ],
      "metadata": {
        "id": "QRcExE8ewSnS"
      },
      "execution_count": 6,
      "outputs": []
    },
    {
      "cell_type": "markdown",
      "source": [
        "**Configs**"
      ],
      "metadata": {
        "id": "Gz-AIzjaEv-_"
      }
    },
    {
      "cell_type": "code",
      "source": [
        "# dataset config\n",
        "dataset_name = 'ceyda/fashion-products-small'\n",
        "dataset_config = DataConfig(dataset_name)\n",
        "dataset_config.dataset_name\n",
        "\n",
        "# model config\n",
        "model_name = \"ViT-B/32\"\n",
        "model_config = ModelConfig(model_name)\n",
        "model_config.model_name\n",
        "\n",
        "# dataset object init\n",
        "dataset_obj = Dataset(dataset_config.dataset_name)\n",
        "labels = dataset_obj.get_labels()\n",
        "\n",
        "# inference config\n",
        "inference_config = InferenceConfig(model_config,\n",
        "                                   dataset_obj.labels,\n",
        "                                   top_k = 1,\n",
        "                                   num_of_inf_samples = 200)\n"
      ],
      "metadata": {
        "colab": {
          "base_uri": "https://localhost:8080/"
        },
        "id": "zoVzwIDvwSkL",
        "outputId": "f2d0b05e-5572-48a0-a44f-67ab1d02725f"
      },
      "execution_count": 18,
      "outputs": [
        {
          "output_type": "stream",
          "name": "stderr",
          "text": [
            "Repo card metadata block was not found. Setting CardData to empty.\n",
            "WARNING:huggingface_hub.repocard:Repo card metadata block was not found. Setting CardData to empty.\n",
            "Repo card metadata block was not found. Setting CardData to empty.\n",
            "WARNING:huggingface_hub.repocard:Repo card metadata block was not found. Setting CardData to empty.\n"
          ]
        }
      ]
    },
    {
      "cell_type": "code",
      "source": [
        "dataset_obj.get_dataset_stats()"
      ],
      "metadata": {
        "colab": {
          "base_uri": "https://localhost:8080/"
        },
        "id": "YqNom2OxNvQv",
        "outputId": "6b0e39ee-11bd-49e0-93aa-5f52f560ad5f"
      },
      "execution_count": 20,
      "outputs": [
        {
          "output_type": "stream",
          "name": "stdout",
          "text": [
            "num of samples: 42700\n",
            "masterCatergory Counter({'Apparel': 20332, 'Accessories': 11133, 'Footwear': 9177, 'Personal Care': 1929, 'Free Items': 103, 'Sporting Goods': 25, 'Home': 1})\n",
            "subCatergory Counter({'Topwear': 14737, 'Shoes': 7316, 'Bags': 3022, 'Watches': 2522, 'Bottomwear': 2453, 'Innerwear': 1679, 'Jewellery': 1072, 'Eyewear': 1044, 'Fragrance': 1003, 'Sandal': 958, 'Flip Flops': 903, 'Wallets': 893, 'Belts': 808, 'Socks': 687, 'Loungewear and Nightwear': 468, 'Dress': 451, 'Saree': 426, 'Headwear': 290, 'Lips': 267, 'Ties': 258, 'Nails': 228, 'Makeup': 211, 'Accessories': 136, 'Scarves': 118, 'Cufflinks': 108, 'Apparel Set': 106, 'Free Gifts': 102, 'Stoles': 89, 'Skin Care': 77, 'Skin': 66, 'Mufflers': 38, 'Eyes': 38, 'Shoe Accessories': 24, 'Sports Equipment': 21, 'Gloves': 19, 'Hair': 18, 'Bath and Body': 12, 'Water Bottle': 7, 'Perfumes': 6, 'Umbrellas': 6, 'Beauty Accessories': 4, 'Wristbands': 4, 'Sports Accessories': 3, 'Home Furnishing': 1, 'Vouchers': 1})\n"
          ]
        }
      ]
    },
    {
      "cell_type": "code",
      "source": [
        "# Inference run init\n",
        "inference_model = InferenceModel(model_config.model_name,\n",
        "                                 model_config.enable_jit,\n",
        "                                 inference_config.labels,\n",
        "                                 inference_config.top_k)\n",
        "\n",
        "#ToDo: Make it part of init run with a flag\n",
        "# Computes embedding for the all the classes (ie ther text descriptions)\n",
        "text_features = inference_model.precomoute_text_features(dataset_obj.labels)"
      ],
      "metadata": {
        "colab": {
          "base_uri": "https://localhost:8080/"
        },
        "id": "xc2dMAXowSfT",
        "outputId": "d39ae5a3-c415-4d47-f652-61cc1710eee3"
      },
      "execution_count": 21,
      "outputs": [
        {
          "output_type": "stream",
          "name": "stdout",
          "text": [
            "torch.Size([45, 512])\n"
          ]
        }
      ]
    },
    {
      "cell_type": "code",
      "source": [
        "# Execute inference\n",
        "# Inference Loop\n",
        "predict_label_list = []\n",
        "true_label_list = []\n",
        "\n",
        "for idx in range(inference_config.num_of_inf_samples):\n",
        "  example = dataset_obj.dataset[idx]\n",
        "  image_data = example['image']\n",
        "  true_label = example['subCategory']\n",
        "  predict_label = inference_model.predict(image_data)\n",
        "  true_label_list.append(true_label)\n",
        "  predict_label_list.append(predict_label)\n",
        "  if (idx % 10) == 0:\n",
        "    print(f\"Predicted: {predict_label}, Actual: {true_label}, for top_k = {inference_config.top_k}\")"
      ],
      "metadata": {
        "colab": {
          "base_uri": "https://localhost:8080/"
        },
        "id": "UMcbSiOxwSXj",
        "outputId": "68afa2a8-fd84-44de-a8dd-170511aef2f7"
      },
      "execution_count": 22,
      "outputs": [
        {
          "output_type": "stream",
          "name": "stdout",
          "text": [
            "Predicted: ['Innerwear'], Actual: Topwear, for top_k = 1\n",
            "Predicted: ['Sports Accessories'], Actual: Shoes, for top_k = 1\n",
            "Predicted: ['Watches'], Actual: Watches, for top_k = 1\n",
            "Predicted: ['Innerwear'], Actual: Topwear, for top_k = 1\n",
            "Predicted: ['Watches'], Actual: Watches, for top_k = 1\n",
            "Predicted: ['Innerwear'], Actual: Innerwear, for top_k = 1\n",
            "Predicted: ['Bags'], Actual: Bags, for top_k = 1\n",
            "Predicted: ['Topwear'], Actual: Topwear, for top_k = 1\n",
            "Predicted: ['Flip Flops'], Actual: Flip Flops, for top_k = 1\n",
            "Predicted: ['Innerwear'], Actual: Innerwear, for top_k = 1\n",
            "Predicted: ['Shoes'], Actual: Flip Flops, for top_k = 1\n",
            "Predicted: ['Innerwear'], Actual: Innerwear, for top_k = 1\n",
            "Predicted: ['Shoes'], Actual: Shoes, for top_k = 1\n",
            "Predicted: ['Bags'], Actual: Bags, for top_k = 1\n",
            "Predicted: ['Shoes'], Actual: Shoes, for top_k = 1\n",
            "Predicted: ['Innerwear'], Actual: Innerwear, for top_k = 1\n",
            "Predicted: ['Watches'], Actual: Watches, for top_k = 1\n",
            "Predicted: ['Shoes'], Actual: Shoes, for top_k = 1\n",
            "Predicted: ['Apparel Set'], Actual: Topwear, for top_k = 1\n",
            "Predicted: ['Innerwear'], Actual: Topwear, for top_k = 1\n"
          ]
        }
      ]
    },
    {
      "cell_type": "code",
      "source": [
        "def eval_precision(true_label_list, predict_label_list):\n",
        "  \"\"\"Compute precsiion top_k precision\"\"\"\n",
        "  eval_decision = []\n",
        "  for idx in range(len(true_label_list)):\n",
        "    if true_label_list[idx] in predict_label_list[idx]:\n",
        "      eval_decision.append(1)\n",
        "    else:\n",
        "      eval_decision.append(0)\n",
        "\n",
        "  print(f\"Precision of Clip for (top_k = {inference_config.top_k}) is {np.sum(np.array(eval_decision))/inference_config.num_of_inf_samples}\")\n",
        "  return eval_decision\n",
        "\n",
        "eval_metric = eval_precision(true_label_list, predict_label_list)"
      ],
      "metadata": {
        "colab": {
          "base_uri": "https://localhost:8080/"
        },
        "id": "i6UHatYDGhpM",
        "outputId": "7f94d7b8-d171-430d-dc66-112df76a80ea"
      },
      "execution_count": 23,
      "outputs": [
        {
          "output_type": "stream",
          "name": "stdout",
          "text": [
            "Precision of Clip for (top_k = 1) is 0.565\n"
          ]
        }
      ]
    },
    {
      "cell_type": "markdown",
      "source": [
        "**Fine Tuning CLIP**"
      ],
      "metadata": {
        "id": "nQTphKXdKYyP"
      }
    },
    {
      "cell_type": "code",
      "source": [],
      "metadata": {
        "id": "tHz2K8blO67d"
      },
      "execution_count": null,
      "outputs": []
    },
    {
      "cell_type": "code",
      "source": [],
      "metadata": {
        "id": "7XCfuH6RLgxW"
      },
      "execution_count": null,
      "outputs": []
    },
    {
      "cell_type": "code",
      "source": [],
      "metadata": {
        "id": "SMlygK0gLhil"
      },
      "execution_count": null,
      "outputs": []
    }
  ],
  "metadata": {
    "accelerator": "GPU",
    "colab": {
      "gpuType": "T4",
      "provenance": []
    },
    "kernelspec": {
      "display_name": "Python 3",
      "name": "python3"
    },
    "language_info": {
      "name": "python"
    }
  },
  "nbformat": 4,
  "nbformat_minor": 0
}