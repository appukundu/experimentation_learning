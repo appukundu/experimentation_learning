{
  "cells": [
    {
      "cell_type": "markdown",
      "metadata": {
        "id": "ChNQktmqV1lz"
      },
      "source": [
        "Install Libraries"
      ]
    },
    {
      "cell_type": "markdown",
      "metadata": {
        "id": "QoZt87gsVzfj"
      },
      "source": []
    },
    {
      "cell_type": "code",
      "execution_count": null,
      "metadata": {
        "id": "yF0Zoy7NWj4-"
      },
      "outputs": [],
      "source": [
        "%%capture\n",
        "\n",
        "!pip install openai-clip\n",
        "!pip install datasets\n",
        "!pip install torch\n",
        "!pip install tqdm"
      ]
    },
    {
      "cell_type": "markdown",
      "metadata": {
        "id": "bneBtKTAXHze"
      },
      "source": [
        "- Model: openai-clip to define our base CLIP model\n",
        "- Dataset from Huggin Face\n",
        "- Torch: Modeling code\n"
      ]
    },
    {
      "cell_type": "markdown",
      "source": [
        "**Zero-shot classifcation performance of CLIP**"
      ],
      "metadata": {
        "id": "039_GzM4KfFl"
      }
    },
    {
      "cell_type": "code",
      "source": [
        "from dataclasses import dataclass\n",
        "from typing import List, Optional\n",
        "import numpy as np\n",
        "\n",
        "import clip\n",
        "import torch\n",
        "\n",
        "\n",
        "@dataclass\n",
        "class ModelConfig:\n",
        "    model_name: str\n",
        "    enable_jit: bool = False\n",
        "\n",
        "@dataclass\n",
        "class InferenceConfig:\n",
        "    model_config: ModelConfig\n",
        "    labels: List[str]\n",
        "    top_k: int = 1\n",
        "    num_of_inf_samples: Optional[int] = None\n",
        "\n",
        "@dataclass\n",
        "class EvalConfig:\n",
        "  inference_config: InferenceConfig\n",
        "  metric_name: str\n",
        "\n",
        "\n",
        "@dataclass\n",
        "class DataConfig:\n",
        "  dataset_name: str"
      ],
      "metadata": {
        "id": "VSMN9_o9wSxX"
      },
      "execution_count": null,
      "outputs": []
    },
    {
      "cell_type": "code",
      "source": [
        "from datasets import load_dataset\n",
        "from collections import Counter\n",
        "\n",
        "\n",
        "class DatasetInfo:\n",
        "  def __init__(self, dataset_name: str):\n",
        "    self.dataset_name = dataset_name\n",
        "    ds = load_dataset(self.dataset_name)\n",
        "    self.dataset = ds['train']\n",
        "\n",
        "  def get_dataset(self):\n",
        "    ds = load_dataset(self.dataset_name)\n",
        "    self.dataset = ds['train']\n",
        "    return self.dataset\n",
        "\n",
        "  def get_labels(self):\n",
        "    ds = load_dataset(self.dataset_name)\n",
        "    self.dataset = ds['train']\n",
        "    self.labels = list(set(self.dataset['subCategory']))\n",
        "    return self.labels\n",
        "\n",
        "  def get_dataset_stats(self):\n",
        "    num_of_samples = len(set(self.dataset['id']))\n",
        "    print(f\"num of samples: {num_of_samples}\")\n",
        "    print(f\"masterCatergory {Counter(self.dataset['masterCategory'])}\")\n",
        "    print(f\"subCatergory {Counter(self.dataset['subCategory'])}\")\n",
        "\n",
        "  def display(self, idx):\n",
        "    # Example image\n",
        "    image = self.dataset[idx]['image']\n",
        "    display(image)\n",
        "\n",
        "    # Example data\n",
        "    print(self.dataset[idx])\n",
        "\n"
      ],
      "metadata": {
        "id": "yMrVNL36wSqI"
      },
      "execution_count": null,
      "outputs": []
    },
    {
      "cell_type": "code",
      "source": [
        "class InferenceModel:\n",
        "    def __init__(self, model_name: str, enable_jit: bool, labels: List[str], top_k: int):\n",
        "        self.device = torch.device(\"cuda\" if torch.cuda.is_available() else \"cpu\")\n",
        "        self.model, self.preprocess = clip.load(model_name, jit=enable_jit)\n",
        "        self.model.eval()  # Set the model to evaluation mode\n",
        "        self.top_k = top_k\n",
        "        self.labels = labels\n",
        "\n",
        "    def preprocess_data(self, image_data):\n",
        "        \"\"\"Preprocess the input data for inference.\"\"\"\n",
        "        return self.preprocess(image_data).unsqueeze(0).to(self.device)\n",
        "\n",
        "    def precomoute_text_features(self, text_data) -> torch.Tensor:\n",
        "        \"\"\"Precompute text features for all the labels\"\"\"\n",
        "        text_inputs = torch.cat([clip.tokenize(f\"a photo of {c}\") for c in text_data]).to(self.device)\n",
        "\n",
        "        with torch.no_grad():\n",
        "            text_features = self.model.encode_text(text_inputs)\n",
        "            print(text_features.shape)\n",
        "        text_features /= text_features.norm(dim=-1, keepdim=True)\n",
        "        self.text_features =  text_features\n",
        "        return self.text_features\n",
        "\n",
        "    def predict(self, data) -> List[str]:\n",
        "        \"\"\"Perform inference on the preprocessed data.\"\"\"\n",
        "        image_input = self.preprocess_data(data)\n",
        "\n",
        "        # Calculate image features\n",
        "        with torch.no_grad():\n",
        "            image_features = self.model.encode_image(image_input)\n",
        "\n",
        "        # Normalize the image features\n",
        "        image_features /= image_features.norm(dim=-1, keepdim=True)\n",
        "\n",
        "        # Calculate similarity between image and text features\n",
        "        similarity = (100.0 * image_features @ self.text_features.T).softmax(dim=-1)\n",
        "        values, indices = similarity[0].topk(self.top_k)\n",
        "\n",
        "        if self.top_k > 1:\n",
        "          pred_label = []\n",
        "          for ii in range(len(indices)):\n",
        "            pred_label.append(self.labels[indices[ii]])\n",
        "        else:\n",
        "          pred_label = [self.labels[indices[0]]]\n",
        "\n",
        "        return pred_label"
      ],
      "metadata": {
        "id": "QRcExE8ewSnS"
      },
      "execution_count": null,
      "outputs": []
    },
    {
      "cell_type": "markdown",
      "source": [
        "**Configs**"
      ],
      "metadata": {
        "id": "Gz-AIzjaEv-_"
      }
    },
    {
      "cell_type": "code",
      "source": [
        "# dataset config\n",
        "dataset_name = 'ceyda/fashion-products-small'\n",
        "dataset_config = DataConfig(dataset_name)\n",
        "dataset_config.dataset_name\n",
        "\n",
        "# model config\n",
        "model_name = \"ViT-B/32\"\n",
        "model_config = ModelConfig(model_name)\n",
        "model_config.model_name\n",
        "\n",
        "# dataset object init\n",
        "dataset_obj = DatasetInfo(dataset_config.dataset_name)\n",
        "labels = dataset_obj.get_labels()\n",
        "\n",
        "# inference config\n",
        "inference_config = InferenceConfig(model_config,\n",
        "                                   dataset_obj.labels,\n",
        "                                   top_k = 1,\n",
        "                                   num_of_inf_samples = 200)\n"
      ],
      "metadata": {
        "id": "zoVzwIDvwSkL"
      },
      "execution_count": null,
      "outputs": []
    },
    {
      "cell_type": "code",
      "source": [
        "dataset_obj.get_dataset_stats()"
      ],
      "metadata": {
        "id": "YqNom2OxNvQv"
      },
      "execution_count": null,
      "outputs": []
    },
    {
      "cell_type": "code",
      "source": [
        "# Inference run init\n",
        "inference_model = InferenceModel(model_config.model_name,\n",
        "                                 model_config.enable_jit,\n",
        "                                 inference_config.labels,\n",
        "                                 inference_config.top_k)\n",
        "\n",
        "#ToDo: Make it part of init run with a flag\n",
        "# Computes embedding for the all the classes (ie ther text descriptions)\n",
        "text_features = inference_model.precomoute_text_features(dataset_obj.labels)"
      ],
      "metadata": {
        "id": "xc2dMAXowSfT"
      },
      "execution_count": null,
      "outputs": []
    },
    {
      "cell_type": "code",
      "source": [
        "# Execute inference\n",
        "# Inference Loop\n",
        "predict_label_list = []\n",
        "true_label_list = []\n",
        "\n",
        "for idx in range(inference_config.num_of_inf_samples):\n",
        "  example = dataset_obj.dataset[idx]\n",
        "  image_data = example['image']\n",
        "  true_label = example['subCategory']\n",
        "  predict_label = inference_model.predict(image_data)\n",
        "  true_label_list.append(true_label)\n",
        "  predict_label_list.append(predict_label)\n",
        "  if (idx % 10) == 0:\n",
        "    print(f\"Predicted: {predict_label}, Actual: {true_label}, for top_k = {inference_config.top_k}\")"
      ],
      "metadata": {
        "id": "UMcbSiOxwSXj"
      },
      "execution_count": null,
      "outputs": []
    },
    {
      "cell_type": "code",
      "source": [
        "def eval_precision(true_label_list, predict_label_list):\n",
        "  \"\"\"Compute precsiion top_k precision\"\"\"\n",
        "  eval_decision = []\n",
        "  for idx in range(len(true_label_list)):\n",
        "    if true_label_list[idx] in predict_label_list[idx]:\n",
        "      eval_decision.append(1)\n",
        "    else:\n",
        "      eval_decision.append(0)\n",
        "\n",
        "  print(f\"Precision of Clip for (top_k = {inference_config.top_k}) is {np.sum(np.array(eval_decision))/inference_config.num_of_inf_samples}\")\n",
        "  return eval_decision\n",
        "\n",
        "eval_metric = eval_precision(true_label_list, predict_label_list)"
      ],
      "metadata": {
        "id": "i6UHatYDGhpM"
      },
      "execution_count": null,
      "outputs": []
    },
    {
      "cell_type": "markdown",
      "source": [
        "**Fine Tuning CLIP**"
      ],
      "metadata": {
        "id": "nQTphKXdKYyP"
      }
    },
    {
      "cell_type": "code",
      "source": [
        "from torch.utils.data import random_split\n",
        "\n",
        "# Split dataset into training and validation sets\n",
        "train_size = int(0.8 * len(dataset_obj.dataset))\n",
        "val_size = len(dataset_obj.dataset) - train_size\n",
        "train_dataset, val_dataset = random_split(dataset_obj.dataset, [train_size, val_size])"
      ],
      "metadata": {
        "id": "tHz2K8blO67d"
      },
      "execution_count": null,
      "outputs": []
    },
    {
      "cell_type": "code",
      "source": [
        "from torchvision import transforms\n",
        "from torch.utils.data import Dataset\n",
        "\n",
        "sub_categories = list(set(dataset_obj.dataset['subCategory']))\n",
        "\n",
        "# Define a custom dataset class\n",
        "class TransformDataset(Dataset):\n",
        "\n",
        "    def __init__(self, data):\n",
        "        self.data = data\n",
        "        self.transform = transforms.Compose([\n",
        "            transforms.Resize((224, 224)),\n",
        "            transforms.ToTensor(),\n",
        "            transforms.Normalize((0.48145466, 0.4578275, 0.40821073), (0.26862954, 0.26130258, 0.27577711))\n",
        "        ])\n",
        "\n",
        "    def __len__(self):\n",
        "        return len(self.data)\n",
        "\n",
        "    def __getitem__(self, idx):\n",
        "\n",
        "        item = self.data[idx]\n",
        "        image = item['image']\n",
        "        subcategory = item['subCategory']\n",
        "        label = sub_categories.index(subcategory)\n",
        "        return self.transform(image), label"
      ],
      "metadata": {
        "id": "7XCfuH6RLgxW"
      },
      "execution_count": null,
      "outputs": []
    },
    {
      "cell_type": "code",
      "source": [
        "from torch.utils.data import DataLoader\n",
        "\n",
        "# Create DataLoader for training and validation sets\n",
        "train_loader = DataLoader(TransformDataset(train_dataset), batch_size=32, shuffle=True)\n",
        "val_loader = DataLoader(TransformDataset(val_dataset), batch_size=32, shuffle=False)"
      ],
      "metadata": {
        "id": "SMlygK0gLhil"
      },
      "execution_count": null,
      "outputs": []
    },
    {
      "cell_type": "code",
      "source": [
        "import torch.nn as nn\n",
        "\n",
        "# Modify the model to include a classifier for subcategories\n",
        "class FineTuneClip(nn.Module):\n",
        "    def __init__(self, model, num_classes):\n",
        "        super(FineTuneClip, self).__init__()\n",
        "        self.model = model\n",
        "        self.classifier = nn.Linear(model.visual.output_dim, num_classes)\n",
        "\n",
        "    def forward(self, x):\n",
        "        with torch.no_grad():\n",
        "            features = self.model.encode_image(x).float()  # Convert to float32\n",
        "        return self.classifier(features)"
      ],
      "metadata": {
        "id": "75V5sI7QmXPV"
      },
      "execution_count": null,
      "outputs": []
    },
    {
      "cell_type": "code",
      "source": [
        "num_classes = len(sub_categories)\n",
        "model_finetune = FineTuneClip(inference_model.model, num_classes).to(inference_model.device)"
      ],
      "metadata": {
        "id": "ivTkiAcfmbav"
      },
      "execution_count": null,
      "outputs": []
    },
    {
      "cell_type": "code",
      "source": [
        "import torch.optim as optim\n",
        "\n",
        "# Define the loss function and optimizer\n",
        "criterion = nn.CrossEntropyLoss()\n",
        "optimizer = optim.Adam(model_finetune.classifier.parameters(), lr=1e-4)"
      ],
      "metadata": {
        "id": "jIkhtKfSDCm0"
      },
      "execution_count": null,
      "outputs": []
    },
    {
      "cell_type": "code",
      "source": [
        "from tqdm import tqdm\n",
        "\n",
        "# Number of epochs for training\n",
        "num_epochs = 2\n",
        "\n",
        "# Training loop\n",
        "for epoch in range(num_epochs):\n",
        "    model_finetune.train()  # Set the model to training mode\n",
        "    running_loss = 0.0  # Initialize running loss for the current epoch\n",
        "    pbar = tqdm(train_loader, desc=f\"Epoch {epoch+1}/{num_epochs}, Loss: 0.0000\")  # Initialize progress bar\n",
        "\n",
        "    for images, labels in pbar:\n",
        "        images, labels = images.to(inference_model.device), labels.to(inference_model.device)  # Move images and labels to the device (GPU/CPU)\n",
        "        optimizer.zero_grad()  # Clear the gradients of all optimized variables\n",
        "        outputs = model_finetune(images)  # Forward pass: compute predicted outputs by passing inputs to the model\n",
        "        loss = criterion(outputs, labels)  # Calculate the loss\n",
        "        loss.backward()  # Backward pass: compute gradient of the loss with respect to model parameters\n",
        "        optimizer.step()  # Perform a single optimization step (Parameter update)\n",
        "\n",
        "        running_loss += loss.item()  # Update running loss\n",
        "        pbar.set_description(f\"Epoch {epoch+1}/{num_epochs}, Loss: {running_loss/len(train_loader):.4f}\")  # Update progress bar with current loss\n",
        "\n",
        "    print(f'Epoch [{epoch+1}/{num_epochs}], Loss: {running_loss/len(train_loader):.4f}')  #Average loss for the epoch\n",
        "\n",
        "    # Validation\n",
        "    model_finetune.eval()  # Set the model to evaluation mode\n",
        "    correct = 0  # Initialize correct predictions counter\n",
        "    total = 0  # Initialize total samples counter\n",
        "\n",
        "    pred_list = []\n",
        "    label_list = []\n",
        "    #values, indices = torch.topk(x, 2)\n",
        "\n",
        "\n",
        "    with torch.no_grad():  # Disable gradient calculation for validation\n",
        "        for images, labels in val_loader:\n",
        "            images, labels = images.to(inference_model.device), labels.to(inference_model.device)  # Move images and labels to the device\n",
        "            outputs = model_finetune(images)  # Forward pass: compute predicted outputs by passing inputs to the model\n",
        "            probabilities = torch.nn.functional.softmax(outputs, dim=1) # Compute probabilities\n",
        "            _, predicted = torch.max(probabilities.data, 1)  # Get the class label with the highest probability\n",
        "            total += labels.size(0)  # Update total samples\n",
        "            label_list.append(labels)\n",
        "            correct += (predicted == labels).sum().item()  # Update correct predictions\n",
        "\n",
        "    print(f'Validation Accuracy: {100 * correct / total}%')  # Print validation accuracy for the epoch\n",
        "\n",
        "# Save the fine-tuned model\n",
        "torch.save(model_finetune.state_dict(), 'clip_finetuned.pth')  # Save the model's state dictionary\n"
      ],
      "metadata": {
        "id": "40RN0uPCnSK_"
      },
      "execution_count": null,
      "outputs": []
    },
    {
      "cell_type": "code",
      "source": [],
      "metadata": {
        "id": "uf5FIPSlMHpq"
      },
      "execution_count": null,
      "outputs": []
    }
  ],
  "metadata": {
    "accelerator": "GPU",
    "colab": {
      "gpuType": "T4",
      "provenance": []
    },
    "kernelspec": {
      "display_name": "Python 3",
      "name": "python3"
    },
    "language_info": {
      "name": "python"
    }
  },
  "nbformat": 4,
  "nbformat_minor": 0
}